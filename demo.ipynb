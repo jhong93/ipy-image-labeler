{
 "cells": [
  {
   "cell_type": "code",
   "execution_count": 15,
   "metadata": {},
   "outputs": [],
   "source": [
    "import os\n",
    "import numpy as np\n",
    "from PIL import Image\n",
    "\n",
    "def load_images(img_dir):\n",
    "    imgs = []\n",
    "    for fname in os.listdir(img_dir):\n",
    "        fpath = os.path.join(img_dir, fname)\n",
    "        imgs.append(np.asarray(Image.open(fpath)))\n",
    "    return imgs\n",
    "\n",
    "DEMO_IMAGES = load_images('imgs')"
   ]
  },
  {
   "cell_type": "markdown",
   "metadata": {},
   "source": [
    "# Multi-class Labeler"
   ]
  },
  {
   "cell_type": "code",
   "execution_count": 16,
   "metadata": {},
   "outputs": [
    {
     "data": {
      "application/vnd.jupyter.widget-view+json": {
       "model_id": "385e643a19b44aae914d9a13757966fc",
       "version_major": 2,
       "version_minor": 0
      },
      "text/plain": [
       "Output()"
      ]
     },
     "metadata": {},
     "output_type": "display_data"
    }
   ],
   "source": [
    "from image_labeler import ImageLabeler, MultiClassCellFactory\n",
    "\n",
    "classes = ['unknown', 'boat', 'cow', 'plane', 'people', 'tree']\n",
    "class_labeler = ImageLabeler(DEMO_IMAGES, MultiClassCellFactory(classes))"
   ]
  },
  {
   "cell_type": "code",
   "execution_count": 17,
   "metadata": {},
   "outputs": [
    {
     "data": {
      "text/plain": [
       "['plane', 'tree', 'people', 'boat', 'cow']"
      ]
     },
     "execution_count": 17,
     "metadata": {},
     "output_type": "execute_result"
    }
   ],
   "source": [
    "class_labeler.labels"
   ]
  },
  {
   "cell_type": "markdown",
   "metadata": {},
   "source": [
    "# Detector Validation Labeler"
   ]
  },
  {
   "cell_type": "code",
   "execution_count": 18,
   "metadata": {},
   "outputs": [
    {
     "data": {
      "application/vnd.jupyter.widget-view+json": {
       "model_id": "fa752534f3834f8d9a2565e633309d08",
       "version_major": 2,
       "version_minor": 0
      },
      "text/plain": [
       "Output()"
      ]
     },
     "metadata": {},
     "output_type": "display_data"
    }
   ],
   "source": [
    "from image_labeler import ImageLabeler, DetectorValidationCellFactory\n",
    "detector_labeler = ImageLabeler(DEMO_IMAGES, DetectorValidationCellFactory())"
   ]
  },
  {
   "cell_type": "code",
   "execution_count": 19,
   "metadata": {},
   "outputs": [
    {
     "data": {
      "text/plain": [
       "[ValResult(tp=1, fp=0, fn=0),\n",
       " ValResult(tp=0, fp=1, fn=0),\n",
       " ValResult(tp=0, fp=0, fn=1),\n",
       " ValResult(tp=1, fp=1, fn=1),\n",
       " ValResult(tp=0, fp=0, fn=0)]"
      ]
     },
     "execution_count": 19,
     "metadata": {},
     "output_type": "execute_result"
    }
   ],
   "source": [
    "detector_labeler.labels"
   ]
  },
  {
   "cell_type": "code",
   "execution_count": null,
   "metadata": {},
   "outputs": [],
   "source": []
  }
 ],
 "metadata": {
  "kernelspec": {
   "display_name": "Python 3",
   "language": "python",
   "name": "python3"
  },
  "language_info": {
   "codemirror_mode": {
    "name": "ipython",
    "version": 3
   },
   "file_extension": ".py",
   "mimetype": "text/x-python",
   "name": "python",
   "nbconvert_exporter": "python",
   "pygments_lexer": "ipython3",
   "version": "3.7.5"
  }
 },
 "nbformat": 4,
 "nbformat_minor": 4
}
